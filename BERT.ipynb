{
 "cells": [
  {
   "cell_type": "code",
   "execution_count": 5,
   "metadata": {
    "colab": {
     "base_uri": "https://localhost:8080/",
     "height": 119
    },
    "id": "4sFJX7jduVb_",
    "outputId": "08852467-6d1a-4c52-ad15-e98baf914bff"
   },
   "outputs": [
    {
     "name": "stdout",
     "output_type": "stream",
     "text": [
      "[nltk_data] Downloading package stopwords to /root/nltk_data...\n",
      "[nltk_data]   Package stopwords is already up-to-date!\n",
      "[nltk_data] Downloading package wordnet to /root/nltk_data...\n",
      "[nltk_data]   Package wordnet is already up-to-date!\n",
      "[nltk_data] Downloading package punkt to /root/nltk_data...\n",
      "[nltk_data]   Package punkt is already up-to-date!\n"
     ]
    },
    {
     "data": {
      "text/html": [
       "<style>.container { width:90% !important; }</style>"
      ],
      "text/plain": [
       "<IPython.core.display.HTML object>"
      ]
     },
     "metadata": {
      "tags": []
     },
     "output_type": "display_data"
    }
   ],
   "source": [
    "import pandas as pd\n",
    "import numpy as np\n",
    "import os\n",
    "\n",
    "import matplotlib.pyplot as plt\n",
    "import seaborn as sns\n",
    "\n",
    "import xgboost as xgb\n",
    "from sklearn import preprocessing, decomposition, model_selection, metrics, pipeline\n",
    "from sklearn.model_selection import GridSearchCV\n",
    "from sklearn.feature_extraction.text import TfidfVectorizer, CountVectorizer\n",
    "from sklearn.decomposition import TruncatedSVD\n",
    "from sklearn.linear_model import LogisticRegression\n",
    "from sklearn.model_selection import train_test_split\n",
    "from sklearn.naive_bayes import MultinomialNB\n",
    "from sklearn.metrics import accuracy_score,confusion_matrix\n",
    "\n",
    "from wordcloud import WordCloud\n",
    "import re\n",
    "import nltk\n",
    "nltk.download('stopwords')\n",
    "nltk.download('wordnet')\n",
    "nltk.download('punkt')\n",
    "from nltk.corpus import stopwords\n",
    "\n",
    "# from lime import lime_text\n",
    "import gensim\n",
    "import gensim.downloader as gensim_api\n",
    "\n",
    "import warnings\n",
    "warnings.filterwarnings('ignore')\n",
    "\n",
    "from IPython.core.display import display, HTML\n",
    "display(HTML(\"<style>.container { width:90% !important; }</style>\"))\n",
    "pd.set_option.max_rows = None"
   ]
  },
  {
   "cell_type": "code",
   "execution_count": 7,
   "metadata": {
    "colab": {
     "base_uri": "https://localhost:8080/",
     "height": 266
    },
    "id": "vOYlskXeut4D",
    "outputId": "1e5e9264-29da-461d-bf74-7217f6bf9791"
   },
   "outputs": [
    {
     "data": {
      "text/html": [
       "<div>\n",
       "<style scoped>\n",
       "    .dataframe tbody tr th:only-of-type {\n",
       "        vertical-align: middle;\n",
       "    }\n",
       "\n",
       "    .dataframe tbody tr th {\n",
       "        vertical-align: top;\n",
       "    }\n",
       "\n",
       "    .dataframe thead th {\n",
       "        text-align: right;\n",
       "    }\n",
       "</style>\n",
       "<table border=\"1\" class=\"dataframe\">\n",
       "  <thead>\n",
       "    <tr style=\"text-align: right;\">\n",
       "      <th></th>\n",
       "      <th>id</th>\n",
       "      <th>category</th>\n",
       "    </tr>\n",
       "  </thead>\n",
       "  <tbody>\n",
       "    <tr>\n",
       "      <th>0</th>\n",
       "      <td>1</td>\n",
       "      <td>Layoff</td>\n",
       "    </tr>\n",
       "    <tr>\n",
       "      <th>1</th>\n",
       "      <td>2</td>\n",
       "      <td>Mergers and Acquisitions</td>\n",
       "    </tr>\n",
       "    <tr>\n",
       "      <th>2</th>\n",
       "      <td>3</td>\n",
       "      <td>Mass Hiring</td>\n",
       "    </tr>\n",
       "    <tr>\n",
       "      <th>3</th>\n",
       "      <td>4</td>\n",
       "      <td>Executive Movement</td>\n",
       "    </tr>\n",
       "    <tr>\n",
       "      <th>4</th>\n",
       "      <td>5</td>\n",
       "      <td>Centre Setup and Expansion</td>\n",
       "    </tr>\n",
       "    <tr>\n",
       "      <th>5</th>\n",
       "      <td>6</td>\n",
       "      <td>Deals</td>\n",
       "    </tr>\n",
       "    <tr>\n",
       "      <th>6</th>\n",
       "      <td>7</td>\n",
       "      <td>Partnerships</td>\n",
       "    </tr>\n",
       "  </tbody>\n",
       "</table>\n",
       "</div>"
      ],
      "text/plain": [
       "   id                    category\n",
       "0   1                      Layoff\n",
       "1   2    Mergers and Acquisitions\n",
       "2   3                 Mass Hiring\n",
       "3   4          Executive Movement\n",
       "4   5  Centre Setup and Expansion\n",
       "5   6                       Deals\n",
       "6   7                Partnerships"
      ]
     },
     "execution_count": 7,
     "metadata": {
      "tags": []
     },
     "output_type": "execute_result"
    }
   ],
   "source": [
    "cat_df = pd.read_csv(\"categories.csv\")\n",
    "cat_df"
   ]
  },
  {
   "cell_type": "code",
   "execution_count": 8,
   "metadata": {
    "colab": {
     "base_uri": "https://localhost:8080/",
     "height": 170
    },
    "id": "_4q5trr4u6xM",
    "outputId": "e31c0f9b-98ac-406e-ebc7-685f79445140"
   },
   "outputs": [
    {
     "name": "stdout",
     "output_type": "stream",
     "text": [
      "                           news_id  category_id\n",
      "0  5cb377684f646938b14a96f1_google            4\n",
      "1  5cb426d44f646938b10bf6b6_google            4\n",
      "2  5cb429984f646938b110f937_google            2\n",
      "3  5cb426b34f646938b10bbeca_google            5\n",
      "4  5cb426f74f646938b10c3857_google            7\n"
     ]
    },
    {
     "data": {
      "text/plain": [
       "False    2636\n",
       "True      908\n",
       "dtype: int64"
      ]
     },
     "execution_count": 8,
     "metadata": {
      "tags": []
     },
     "output_type": "execute_result"
    }
   ],
   "source": [
    "map_df = pd.read_excel(\"category_mapping.xlsx\",sheet_name=\"Sheet1\")\n",
    "print(map_df.head())\n",
    "map_df.duplicated().value_counts()"
   ]
  },
  {
   "cell_type": "code",
   "execution_count": 9,
   "metadata": {
    "colab": {
     "base_uri": "https://localhost:8080/",
     "height": 51
    },
    "id": "Yz3D-hegvAUE",
    "outputId": "36dd2744-5389-4ae5-a91b-e7aa6e023e9c"
   },
   "outputs": [
    {
     "name": "stdout",
     "output_type": "stream",
     "text": [
      "total number of unique articles:  2635\n",
      "total articles:  2636\n"
     ]
    }
   ],
   "source": [
    "#There were some duplicates identified in map_df. hence removing them via drop_duplicates command\n",
    "map_df = map_df.drop_duplicates()\n",
    "print(\"total number of unique articles: \",map_df.news_id.nunique())\n",
    "print(\"total articles: \",map_df.news_id.count())"
   ]
  },
  {
   "cell_type": "code",
   "execution_count": 10,
   "metadata": {
    "colab": {
     "base_uri": "https://localhost:8080/",
     "height": 255
    },
    "id": "5VxxMp7nu69L",
    "outputId": "e495ffa8-b193-4117-937e-1820e29946a2"
   },
   "outputs": [
    {
     "name": "stdout",
     "output_type": "stream",
     "text": [
      "False    2720\n",
      "True      824\n",
      "dtype: int64\n"
     ]
    },
    {
     "data": {
      "text/html": [
       "<div>\n",
       "<style scoped>\n",
       "    .dataframe tbody tr th:only-of-type {\n",
       "        vertical-align: middle;\n",
       "    }\n",
       "\n",
       "    .dataframe tbody tr th {\n",
       "        vertical-align: top;\n",
       "    }\n",
       "\n",
       "    .dataframe thead th {\n",
       "        text-align: right;\n",
       "    }\n",
       "</style>\n",
       "<table border=\"1\" class=\"dataframe\">\n",
       "  <thead>\n",
       "    <tr style=\"text-align: right;\">\n",
       "      <th></th>\n",
       "      <th>news_id</th>\n",
       "      <th>snippet</th>\n",
       "      <th>title</th>\n",
       "      <th>news_description</th>\n",
       "    </tr>\n",
       "  </thead>\n",
       "  <tbody>\n",
       "    <tr>\n",
       "      <th>0</th>\n",
       "      <td>5cb377684f646938b14a96f1_google</td>\n",
       "      <td>New Delhi: Bank of Baroda, which has become th...</td>\n",
       "      <td>Bank of Baroda to hire consultancy firm to eva...</td>\n",
       "      <td>NaN</td>\n",
       "    </tr>\n",
       "    <tr>\n",
       "      <th>1</th>\n",
       "      <td>5cb426d44f646938b10bf6b6_google</td>\n",
       "      <td>He said his plans would be discussed with the ...</td>\n",
       "      <td>Foxconn chairman Gou says he aims to step down...</td>\n",
       "      <td>TAIPEI (Reuters) - The chairman of Taiwan's Fo...</td>\n",
       "    </tr>\n",
       "    <tr>\n",
       "      <th>2</th>\n",
       "      <td>5cb429984f646938b110f937_google</td>\n",
       "      <td>ZF Friedrichshafen AG has announced that it ha...</td>\n",
       "      <td>ZF Finalizes USD 7 Billion Deal to Acquire WABCO</td>\n",
       "      <td>Share 0 Share 0\\n\\nZF Friedrichshafen AG has a...</td>\n",
       "    </tr>\n",
       "    <tr>\n",
       "      <th>3</th>\n",
       "      <td>5cb426b34f646938b10bbeca_google</td>\n",
       "      <td>Zhejiang Geely Holding (ZGH) has begun constru...</td>\n",
       "      <td>Geely Begins Work On New Lotus Plant In China</td>\n",
       "      <td>Zhejiang Geely Holding (ZGH) has begun constru...</td>\n",
       "    </tr>\n",
       "    <tr>\n",
       "      <th>4</th>\n",
       "      <td>5cb426f74f646938b10c3857_google</td>\n",
       "      <td>KFH has partnered with IDEMIA to launch Kuwait...</td>\n",
       "      <td>KFH partners with IDEMIA's to launch metal pay...</td>\n",
       "      <td>NaN</td>\n",
       "    </tr>\n",
       "  </tbody>\n",
       "</table>\n",
       "</div>"
      ],
      "text/plain": [
       "                           news_id  ...                                   news_description\n",
       "0  5cb377684f646938b14a96f1_google  ...                                                NaN\n",
       "1  5cb426d44f646938b10bf6b6_google  ...  TAIPEI (Reuters) - The chairman of Taiwan's Fo...\n",
       "2  5cb429984f646938b110f937_google  ...  Share 0 Share 0\\n\\nZF Friedrichshafen AG has a...\n",
       "3  5cb426b34f646938b10bbeca_google  ...  Zhejiang Geely Holding (ZGH) has begun constru...\n",
       "4  5cb426f74f646938b10c3857_google  ...                                                NaN\n",
       "\n",
       "[5 rows x 4 columns]"
      ]
     },
     "execution_count": 10,
     "metadata": {
      "tags": []
     },
     "output_type": "execute_result"
    }
   ],
   "source": [
    "news_df = pd.read_excel(\"news_details.xlsx\",sheet_name = 'Sheet1')\n",
    "print(news_df.duplicated().value_counts())\n",
    "news_df.head()"
   ]
  },
  {
   "cell_type": "code",
   "execution_count": 11,
   "metadata": {
    "colab": {
     "base_uri": "https://localhost:8080/",
     "height": 68
    },
    "id": "CUHN-f2IvJKx",
    "outputId": "d1f4b19a-abeb-4685-82bb-cf38723e4693"
   },
   "outputs": [
    {
     "name": "stdout",
     "output_type": "stream",
     "text": [
      "Total Number of articles in the news_details data:  2635\n"
     ]
    },
    {
     "data": {
      "text/plain": [
       "True    2635\n",
       "dtype: int64"
      ]
     },
     "execution_count": 11,
     "metadata": {
      "tags": []
     },
     "output_type": "execute_result"
    }
   ],
   "source": [
    "news_df = news_df.drop_duplicates()\n",
    "print(\"Total Number of articles in the news_details data: \" , news_df.news_id.nunique())\n",
    "\n",
    "#Checking whether there is a mapping for every article in the category mapping table. \n",
    "pd.Series(news_df.news_id.unique()).isin(map_df.news_id.unique()).value_counts()"
   ]
  },
  {
   "cell_type": "code",
   "execution_count": 12,
   "metadata": {
    "colab": {
     "base_uri": "https://localhost:8080/",
     "height": 419
    },
    "id": "3rzX0d5zu7Kh",
    "outputId": "761671a4-7d98-4c56-e843-e9284103cf24"
   },
   "outputs": [
    {
     "data": {
      "text/html": [
       "<div>\n",
       "<style scoped>\n",
       "    .dataframe tbody tr th:only-of-type {\n",
       "        vertical-align: middle;\n",
       "    }\n",
       "\n",
       "    .dataframe tbody tr th {\n",
       "        vertical-align: top;\n",
       "    }\n",
       "\n",
       "    .dataframe thead th {\n",
       "        text-align: right;\n",
       "    }\n",
       "</style>\n",
       "<table border=\"1\" class=\"dataframe\">\n",
       "  <thead>\n",
       "    <tr style=\"text-align: right;\">\n",
       "      <th></th>\n",
       "      <th>news_id</th>\n",
       "      <th>category</th>\n",
       "    </tr>\n",
       "  </thead>\n",
       "  <tbody>\n",
       "    <tr>\n",
       "      <th>0</th>\n",
       "      <td>5cb516014f646938b1bda75b_google</td>\n",
       "      <td>Layoff</td>\n",
       "    </tr>\n",
       "    <tr>\n",
       "      <th>1</th>\n",
       "      <td>5cb42d064f646938b1178e03_google</td>\n",
       "      <td>Layoff</td>\n",
       "    </tr>\n",
       "    <tr>\n",
       "      <th>2</th>\n",
       "      <td>5cb419f44f646938b1f851de_google</td>\n",
       "      <td>Layoff</td>\n",
       "    </tr>\n",
       "    <tr>\n",
       "      <th>3</th>\n",
       "      <td>5cb6bbcc4f646938b10fe4b8_google</td>\n",
       "      <td>Layoff</td>\n",
       "    </tr>\n",
       "    <tr>\n",
       "      <th>4</th>\n",
       "      <td>5cb6c3234f646938b1199b88_google</td>\n",
       "      <td>Layoff</td>\n",
       "    </tr>\n",
       "    <tr>\n",
       "      <th>...</th>\n",
       "      <td>...</td>\n",
       "      <td>...</td>\n",
       "    </tr>\n",
       "    <tr>\n",
       "      <th>2631</th>\n",
       "      <td>5cd5468c29458140edccef58_google</td>\n",
       "      <td>Partnerships</td>\n",
       "    </tr>\n",
       "    <tr>\n",
       "      <th>2632</th>\n",
       "      <td>5cd5abab29458140edab30e8_google</td>\n",
       "      <td>Partnerships</td>\n",
       "    </tr>\n",
       "    <tr>\n",
       "      <th>2633</th>\n",
       "      <td>5cd54df629458140edd686f1_google</td>\n",
       "      <td>Partnerships</td>\n",
       "    </tr>\n",
       "    <tr>\n",
       "      <th>2634</th>\n",
       "      <td>5cd3cb1d29458140edbab1e6_google</td>\n",
       "      <td>Partnerships</td>\n",
       "    </tr>\n",
       "    <tr>\n",
       "      <th>2635</th>\n",
       "      <td>5cd3dbe529458140edc5444a_google</td>\n",
       "      <td>Partnerships</td>\n",
       "    </tr>\n",
       "  </tbody>\n",
       "</table>\n",
       "<p>2636 rows × 2 columns</p>\n",
       "</div>"
      ],
      "text/plain": [
       "                              news_id      category\n",
       "0     5cb516014f646938b1bda75b_google        Layoff\n",
       "1     5cb42d064f646938b1178e03_google        Layoff\n",
       "2     5cb419f44f646938b1f851de_google        Layoff\n",
       "3     5cb6bbcc4f646938b10fe4b8_google        Layoff\n",
       "4     5cb6c3234f646938b1199b88_google        Layoff\n",
       "...                               ...           ...\n",
       "2631  5cd5468c29458140edccef58_google  Partnerships\n",
       "2632  5cd5abab29458140edab30e8_google  Partnerships\n",
       "2633  5cd54df629458140edd686f1_google  Partnerships\n",
       "2634  5cd3cb1d29458140edbab1e6_google  Partnerships\n",
       "2635  5cd3dbe529458140edc5444a_google  Partnerships\n",
       "\n",
       "[2636 rows x 2 columns]"
      ]
     },
     "execution_count": 12,
     "metadata": {
      "tags": []
     },
     "output_type": "execute_result"
    }
   ],
   "source": [
    "#Combining news data with the associated categories and creating the training dataset\n",
    "cat_map_df = cat_df.merge(map_df,left_on='id',right_on='category_id')[['news_id','category']]\n",
    "# cat_map_df = pd.crosstab(cat_map_df['news_id'],cat_map_df['category']).reset_index(level='news_id')\n",
    "cat_map_df"
   ]
  },
  {
   "cell_type": "code",
   "execution_count": 13,
   "metadata": {
    "colab": {
     "base_uri": "https://localhost:8080/",
     "height": 272
    },
    "id": "LLC9MiD6vPZR",
    "outputId": "31f8467e-205a-4594-b2e6-b0b258713203"
   },
   "outputs": [
    {
     "name": "stdout",
     "output_type": "stream",
     "text": [
      "the dimensions of the new dataframe are: (2721, 6)\n"
     ]
    },
    {
     "data": {
      "text/html": [
       "<div>\n",
       "<style scoped>\n",
       "    .dataframe tbody tr th:only-of-type {\n",
       "        vertical-align: middle;\n",
       "    }\n",
       "\n",
       "    .dataframe tbody tr th {\n",
       "        vertical-align: top;\n",
       "    }\n",
       "\n",
       "    .dataframe thead th {\n",
       "        text-align: right;\n",
       "    }\n",
       "</style>\n",
       "<table border=\"1\" class=\"dataframe\">\n",
       "  <thead>\n",
       "    <tr style=\"text-align: right;\">\n",
       "      <th></th>\n",
       "      <th>news_id</th>\n",
       "      <th>snippet</th>\n",
       "      <th>title</th>\n",
       "      <th>news_description</th>\n",
       "      <th>category</th>\n",
       "      <th>text</th>\n",
       "    </tr>\n",
       "  </thead>\n",
       "  <tbody>\n",
       "    <tr>\n",
       "      <th>0</th>\n",
       "      <td>5cb377684f646938b14a96f1_google</td>\n",
       "      <td>New Delhi: Bank of Baroda, which has become th...</td>\n",
       "      <td>Bank of Baroda to hire consultancy firm to eva...</td>\n",
       "      <td>NaN</td>\n",
       "      <td>Executive Movement</td>\n",
       "      <td>New Delhi: Bank of Baroda, which has become th...</td>\n",
       "    </tr>\n",
       "    <tr>\n",
       "      <th>1</th>\n",
       "      <td>5cb426d44f646938b10bf6b6_google</td>\n",
       "      <td>He said his plans would be discussed with the ...</td>\n",
       "      <td>Foxconn chairman Gou says he aims to step down...</td>\n",
       "      <td>TAIPEI (Reuters) - The chairman of Taiwan's Fo...</td>\n",
       "      <td>Executive Movement</td>\n",
       "      <td>He said his plans would be discussed with the ...</td>\n",
       "    </tr>\n",
       "    <tr>\n",
       "      <th>2</th>\n",
       "      <td>5cb429984f646938b110f937_google</td>\n",
       "      <td>ZF Friedrichshafen AG has announced that it ha...</td>\n",
       "      <td>ZF Finalizes USD 7 Billion Deal to Acquire WABCO</td>\n",
       "      <td>Share 0 Share 0\\n\\nZF Friedrichshafen AG has a...</td>\n",
       "      <td>Mergers and Acquisitions</td>\n",
       "      <td>ZF Friedrichshafen AG has announced that it ha...</td>\n",
       "    </tr>\n",
       "    <tr>\n",
       "      <th>3</th>\n",
       "      <td>5cb426b34f646938b10bbeca_google</td>\n",
       "      <td>Zhejiang Geely Holding (ZGH) has begun constru...</td>\n",
       "      <td>Geely Begins Work On New Lotus Plant In China</td>\n",
       "      <td>Zhejiang Geely Holding (ZGH) has begun constru...</td>\n",
       "      <td>Centre Setup and Expansion</td>\n",
       "      <td>Zhejiang Geely Holding (ZGH) has begun constru...</td>\n",
       "    </tr>\n",
       "    <tr>\n",
       "      <th>4</th>\n",
       "      <td>5cb426f74f646938b10c3857_google</td>\n",
       "      <td>KFH has partnered with IDEMIA to launch Kuwait...</td>\n",
       "      <td>KFH partners with IDEMIA's to launch metal pay...</td>\n",
       "      <td>NaN</td>\n",
       "      <td>Partnerships</td>\n",
       "      <td>KFH has partnered with IDEMIA to launch Kuwait...</td>\n",
       "    </tr>\n",
       "  </tbody>\n",
       "</table>\n",
       "</div>"
      ],
      "text/plain": [
       "                           news_id  ...                                               text\n",
       "0  5cb377684f646938b14a96f1_google  ...  New Delhi: Bank of Baroda, which has become th...\n",
       "1  5cb426d44f646938b10bf6b6_google  ...  He said his plans would be discussed with the ...\n",
       "2  5cb429984f646938b110f937_google  ...  ZF Friedrichshafen AG has announced that it ha...\n",
       "3  5cb426b34f646938b10bbeca_google  ...  Zhejiang Geely Holding (ZGH) has begun constru...\n",
       "4  5cb426f74f646938b10c3857_google  ...  KFH has partnered with IDEMIA to launch Kuwait...\n",
       "\n",
       "[5 rows x 6 columns]"
      ]
     },
     "execution_count": 13,
     "metadata": {
      "tags": []
     },
     "output_type": "execute_result"
    }
   ],
   "source": [
    "df = news_df.merge(cat_map_df,on='news_id')\n",
    "df['text'] = (df['snippet']+\" \"+ df['title']+\" \"+df['news_description'].fillna(\"\")).astype(str)\n",
    "print(\"the dimensions of the new dataframe are:\" ,df.shape)\n",
    "df.head()"
   ]
  },
  {
   "cell_type": "code",
   "execution_count": 14,
   "metadata": {
    "id": "X9gJGUfxu7HL"
   },
   "outputs": [],
   "source": [
    "REPLACE_BY_SPACE_RE = re.compile('[/(){}\\[\\]\\|@,;]')\n",
    "BAD_SYMBOLS_RE = re.compile('[^0-9a-z #+_]')\n",
    "STOPWORDS = set(stopwords.words('english'))\n",
    "\n",
    "\n",
    "def clean_text(text):\n",
    "    text = text.lower() # lowercase text\n",
    "    text = REPLACE_BY_SPACE_RE.sub(' ', text) # replace REPLACE_BY_SPACE_RE symbols by space in text\n",
    "    text = BAD_SYMBOLS_RE.sub('', text) # delete symbols which are in BAD_SYMBOLS_RE from text\n",
    "    text = text.split()\n",
    "    text = [word for word in text if word not in STOPWORDS]\n",
    "#     Stemming and Lemmatization are not being here as they were resulting into decrease in accuracy of logistic and xgboost model    \n",
    "#     ps = nltk.stem.porter.PorterStemmer()\n",
    "#     text = [ps.stem(word) for word in text]\n",
    "#     lem = nltk.stem.wordnet.WordNetLemmatizer()\n",
    "#     text = [lem.lemmatize(word) for word in text]\n",
    "    text = \" \".join(text)\n",
    "    return text\n",
    "    \n",
    "df['text'] = df['text'].apply(clean_text)"
   ]
  },
  {
   "cell_type": "code",
   "execution_count": 15,
   "metadata": {
    "id": "z1mBvnuBu644"
   },
   "outputs": [],
   "source": [
    "import ktrain\n",
    "from ktrain import text"
   ]
  },
  {
   "cell_type": "code",
   "execution_count": 17,
   "metadata": {
    "colab": {
     "base_uri": "https://localhost:8080/",
     "height": 289
    },
    "id": "bvxvDHqTvba6",
    "outputId": "1395b5cd-b488-4964-c00e-533ef7f6595b"
   },
   "outputs": [
    {
     "name": "stdout",
     "output_type": "stream",
     "text": [
      "downloading pretrained BERT model (uncased_L-12_H-768_A-12.zip)...\n",
      "[██████████████████████████████████████████████████]\n",
      "extracting pretrained BERT model...\n",
      "done.\n",
      "\n",
      "cleanup downloaded zip...\n",
      "done.\n",
      "\n",
      "preprocessing train...\n",
      "language: en\n"
     ]
    },
    {
     "data": {
      "text/html": [
       "done."
      ],
      "text/plain": [
       "<IPython.core.display.HTML object>"
      ]
     },
     "metadata": {
      "tags": []
     },
     "output_type": "display_data"
    },
    {
     "name": "stdout",
     "output_type": "stream",
     "text": [
      "Is Multi-Label? False\n",
      "preprocessing test...\n",
      "language: en\n"
     ]
    },
    {
     "data": {
      "text/html": [
       "done."
      ],
      "text/plain": [
       "<IPython.core.display.HTML object>"
      ]
     },
     "metadata": {
      "tags": []
     },
     "output_type": "display_data"
    },
    {
     "name": "stdout",
     "output_type": "stream",
     "text": [
      "task: text classification\n"
     ]
    }
   ],
   "source": [
    "lbl_enc = preprocessing.LabelEncoder()\n",
    "y = lbl_enc.fit_transform(df.category.values)\n",
    "\n",
    "X_train, X_test, Y_train, Y_test = train_test_split(df.text.values.astype('U'), y, \n",
    "                                                  stratify=y, \n",
    "                                                  random_state=42, \n",
    "                                                  test_size=0.2, shuffle=True)\n",
    "(x_train,  y_train), (x_test, y_test), preproc = text.texts_from_array(x_train=X_train, y_train=Y_train,\n",
    "                                                                       x_test=X_test, y_test=Y_test,\n",
    "                                                                       class_names=Y_train,\n",
    "                                                                       preprocess_mode='bert',\n",
    "                                                                       maxlen=350, \n",
    "                                                                       max_features=35000)"
   ]
  },
  {
   "cell_type": "code",
   "execution_count": 18,
   "metadata": {
    "colab": {
     "base_uri": "https://localhost:8080/",
     "height": 68
    },
    "id": "YWclXz_1venh",
    "outputId": "3440fcb3-607c-4349-f281-fe0e581928ac"
   },
   "outputs": [
    {
     "name": "stdout",
     "output_type": "stream",
     "text": [
      "Is Multi-Label? False\n",
      "maxlen is 350\n",
      "done.\n"
     ]
    }
   ],
   "source": [
    "# you can disregard the deprecation warnings arising from using Keras 2.2.4 with TensorFlow 1.14.\n",
    "model = text.text_classifier('bert', train_data=(x_train, y_train), preproc=preproc)\n",
    "learner = ktrain.get_learner(model, train_data=(x_train, y_train), batch_size=6)"
   ]
  },
  {
   "cell_type": "code",
   "execution_count": 30,
   "metadata": {
    "colab": {
     "base_uri": "https://localhost:8080/",
     "height": 255
    },
    "id": "fVpqvKCFvguU",
    "outputId": "1fe88105-9a29-45f2-b16a-62c0f1052516"
   },
   "outputs": [
    {
     "name": "stdout",
     "output_type": "stream",
     "text": [
      "\n",
      "\n",
      "begin training using onecycle policy with max lr of 2e-05...\n",
      "Epoch 1/5\n",
      "363/363 [==============================] - 273s 752ms/step - loss: 0.1309 - accuracy: 0.9807\n",
      "Epoch 2/5\n",
      "363/363 [==============================] - 273s 752ms/step - loss: 0.1214 - accuracy: 0.9710\n",
      "Epoch 3/5\n",
      "363/363 [==============================] - 273s 752ms/step - loss: 0.1512 - accuracy: 0.9605\n",
      "Epoch 4/5\n",
      "363/363 [==============================] - 272s 750ms/step - loss: 0.0638 - accuracy: 0.9853\n",
      "Epoch 5/5\n",
      "363/363 [==============================] - 273s 752ms/step - loss: 0.0301 - accuracy: 0.9936\n"
     ]
    },
    {
     "data": {
      "text/plain": [
       "<tensorflow.python.keras.callbacks.History at 0x7fe40448d3c8>"
      ]
     },
     "execution_count": 30,
     "metadata": {
      "tags": []
     },
     "output_type": "execute_result"
    }
   ],
   "source": [
    "learner.fit_onecycle(2e-5, 5)"
   ]
  },
  {
   "cell_type": "code",
   "execution_count": 31,
   "metadata": {
    "colab": {
     "base_uri": "https://localhost:8080/",
     "height": 374
    },
    "id": "hNitgFuIxN_A",
    "outputId": "8cee6075-f6e5-4cc5-d2f4-ee6853cc8e14"
   },
   "outputs": [
    {
     "name": "stdout",
     "output_type": "stream",
     "text": [
      "              precision    recall  f1-score   support\n",
      "\n",
      "           0       0.94      0.87      0.91        94\n",
      "           1       0.82      0.92      0.86        73\n",
      "           2       0.96      0.96      0.96       143\n",
      "           3       0.80      0.94      0.86        17\n",
      "           4       0.88      0.88      0.88        17\n",
      "           5       0.89      0.94      0.91        77\n",
      "           6       0.94      0.88      0.91       124\n",
      "\n",
      "    accuracy                           0.91       545\n",
      "   macro avg       0.89      0.91      0.90       545\n",
      "weighted avg       0.92      0.91      0.91       545\n",
      "\n"
     ]
    },
    {
     "data": {
      "text/plain": [
       "array([[ 82,   4,   0,   0,   1,   4,   3],\n",
       "       [  0,  67,   0,   0,   0,   3,   3],\n",
       "       [  0,   1, 137,   2,   0,   2,   1],\n",
       "       [  1,   0,   0,  16,   0,   0,   0],\n",
       "       [  0,   0,   0,   2,  15,   0,   0],\n",
       "       [  0,   4,   1,   0,   0,  72,   0],\n",
       "       [  4,   6,   4,   0,   1,   0, 109]])"
      ]
     },
     "execution_count": 31,
     "metadata": {
      "tags": []
     },
     "output_type": "execute_result"
    }
   ],
   "source": [
    "learner.validate(val_data=(x_test, y_test))"
   ]
  },
  {
   "cell_type": "markdown",
   "metadata": {},
   "source": [
    "> It can be seen above that BERT resulted in 91% accuracy on test data(unseen data)"
   ]
  },
  {
   "cell_type": "code",
   "execution_count": 21,
   "metadata": {
    "id": "V8RNVUlIxNp4"
   },
   "outputs": [],
   "source": [
    "predictor = ktrain.get_predictor(learner.model, preproc)"
   ]
  },
  {
   "cell_type": "code",
   "execution_count": 23,
   "metadata": {
    "colab": {
     "base_uri": "https://localhost:8080/",
     "height": 17
    },
    "id": "NAVL2iQDyyhZ",
    "outputId": "7d68473d-7921-45f9-91ae-5585c93a84aa"
   },
   "outputs": [
    {
     "data": {
      "text/html": [],
      "text/plain": [
       "<IPython.core.display.HTML object>"
      ]
     },
     "metadata": {
      "tags": []
     },
     "output_type": "display_data"
    },
    {
     "data": {
      "text/html": [],
      "text/plain": [
       "<IPython.core.display.HTML object>"
      ]
     },
     "metadata": {
      "tags": []
     },
     "output_type": "display_data"
    }
   ],
   "source": [
    "predictions = predictor.predict(X_test)\n",
    "predictions_train = predictor.predict(X_train)\n"
   ]
  },
  {
   "cell_type": "code",
   "execution_count": null,
   "metadata": {
    "id": "DUvGKm-2yyRx"
   },
   "outputs": [],
   "source": []
  }
 ],
 "metadata": {
  "accelerator": "GPU",
  "colab": {
   "name": "BERT.ipynb",
   "provenance": []
  },
  "kernelspec": {
   "display_name": "Python 3",
   "language": "python",
   "name": "python3"
  },
  "language_info": {
   "codemirror_mode": {
    "name": "ipython",
    "version": 3
   },
   "file_extension": ".py",
   "mimetype": "text/x-python",
   "name": "python",
   "nbconvert_exporter": "python",
   "pygments_lexer": "ipython3",
   "version": "3.7.8"
  }
 },
 "nbformat": 4,
 "nbformat_minor": 1
}
